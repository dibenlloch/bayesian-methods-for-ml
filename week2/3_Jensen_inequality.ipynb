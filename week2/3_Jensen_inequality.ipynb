{
 "cells": [
  {
   "cell_type": "markdown",
   "metadata": {},
   "source": [
    "# Bayesian methods for machine learning - Week 2"
   ]
  },
  {
   "cell_type": "markdown",
   "metadata": {},
   "source": [
    "## Jensen inequality\n",
    "\n",
    "### Concave functions\n",
    "\n",
    "A concave function is a function $f$ if, for any two points $a$, $b$: the value of the function at any point in $[a, b]$ is bigger or equal than all values in the segment between them.\n",
    "\n",
    "Formally:\n",
    "\n",
    "$f$ concave if:\n",
    "\n",
    "$$\n",
    "f(\\alpha a + (1 - \\alpha)b) \\ge \\alpha f(a) + (1 - \\alpha) f(b) \\\\\n",
    "0 < \\alpha < 1 \\\\\n",
    "\\forall a, b, \\alpha\n",
    "$$\n",
    "\n",
    "Visually:"
   ]
  },
  {
   "cell_type": "code",
   "execution_count": 39,
   "metadata": {},
   "outputs": [
    {
     "data": {
      "image/png": "[encoded data removed]",
      "text/plain": [
       "<Figure size 432x288 with 1 Axes>"
      ]
     },
     "metadata": {
      "needs_background": "light"
     },
     "output_type": "display_data"
    }
   ],
   "source": [
    "import numpy as np\n",
    "import matplotlib.pyplot as plt\n",
    "\n",
    "def f(x): return -x**2\n",
    "\n",
    "xs = np.linspace(-10, 10)\n",
    "ys = [f(x) for x in xs]\n",
    "plt.plot(xs, ys)\n",
    "\n",
    "a, b = -5, 2\n",
    "\n",
    "plt.plot([a, b], [f(a), f(b)], linestyle='-', color='red', marker='o')\n",
    "\n",
    "plt.axvline(a, color='red', linestyle='--')\n",
    "plt.text(a + 0.10, 0, 'a', color='red')\n",
    "\n",
    "plt.axvline(b, color='red', linestyle='--')\n",
    "plt.text(b + 0.10, 0, 'b', color='red')\n",
    "\n",
    "plt.xlabel('x')\n",
    "plt.xlabel('f(x)');"
   ]
  },
  {
   "cell_type": "markdown",
   "metadata": {},
   "source": [
    "We can easily observe that for all $x$ between $a$ and $b$, the value on the function (i.e. blue line) is always higher or equal than the value in the segment between them (i.e. red line).\n",
    "\n",
    "It can be generalized to any set of points using mixtures of values of $f$.\n",
    "\n",
    "$f$ concave if:\n",
    "\n",
    "$$\n",
    "f(\\alpha_1 a_1 + \\alpha_2 a_2 + alpha_3 a_3) \\ge \\alpha_1 f(a_1) + \\alpha_2 f(a_2) + \\alpha_3 f(a_3) \\\\\n",
    "\\alpha_1 + \\alpha_2 + \\alpha_3 = 1 \\\\\n",
    "\\alpha_i \\ge 0\n",
    "$$\n",
    "\n",
    "If we consider a discrete random variable $X$ with possible values $a_1, \\ldots, a_N$ such that $P(X=a_i) = \\alpha_i$. Then, we can rewrite:\n",
    "\n",
    "$$\n",
    "f\\left(\\mathbb{E}_{P\\left(X\\right)} X \\right) \\ge \\mathbb{E}_{P\\left(X\\right)} f\\left(X\\right)\n",
    "$$\n",
    "\n",
    "Note that $f(x)$ is concave if and only if $-f(x)$ is convex."
   ]
  },
  {
   "cell_type": "code",
   "execution_count": null,
   "metadata": {},
   "outputs": [],
   "source": [
    "3:46"
   ]
  }
 ],
 "metadata": {
  "kernelspec": {
   "display_name": "Python 3",
   "language": "python",
   "name": "python3"
  },
  "language_info": {
   "codemirror_mode": {
    "name": "ipython",
    "version": 3
   },
   "file_extension": ".py",
   "mimetype": "text/x-python",
   "name": "python",
   "nbconvert_exporter": "python",
   "pygments_lexer": "ipython3",
   "version": "3.7.7"
  }
 },
 "nbformat": 4,
 "nbformat_minor": 4
}
